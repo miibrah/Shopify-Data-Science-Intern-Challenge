{
 "cells": [
  {
   "cell_type": "markdown",
   "metadata": {},
   "source": [
    "# Fall 2021 Data Science Intern Challenge \n",
    "\n",
    "## Question 1\n",
    "\n",
    "**a) Think about what could be going wrong with our calculation. Think about a better way to evaluate this data.**\n",
    "\n",
    "The mean order value is 3145.13. The calculation is correct, but I would recommend using a more robust, stable data metric like median. As we can see in the scatterplot, there are multiple extreme outliers (in the $700,000 range!) which is skewing the AOV. Calculating AOV when such large outliers exist can result in misleading data which can be difficult to analyze.\n",
    "\n",
    "**b) What metric would you report for this dataset?**\n",
    "\n",
    "In a distribution which has large outliers, I would recommend using median. The median is more robust and less sensitive to outliers in data. \n",
    "\n",
    "**c) What is its value?**\n",
    "\n",
    "As shown below, the median is 284. This value is a better representation of our data than an AOV of $3145.13."
   ]
  },
  {
   "cell_type": "code",
   "execution_count": 6,
   "metadata": {},
   "outputs": [
    {
     "data": {
      "text/plain": [
       "3145.128"
      ]
     },
     "execution_count": 6,
     "metadata": {},
     "output_type": "execute_result"
    }
   ],
   "source": [
    "import pandas as pd\n",
    "\n",
    "orders_data = '2019 Winter Data Science Intern Challenge Data Set - Sheet1.csv'\n",
    "orders_df = pd.read_csv(orders_data)\n",
    "\n",
    "orders_df['order_amount'].mean()"
   ]
  },
  {
   "cell_type": "code",
   "execution_count": 11,
   "metadata": {},
   "outputs": [
    {
     "data": {
      "image/png": "[encoded data removed]",
      "text/plain": [
       "<Figure size 432x288 with 1 Axes>"
      ]
     },
     "metadata": {
      "needs_background": "light"
     },
     "output_type": "display_data"
    }
   ],
   "source": [
    "import matplotlib.pyplot as plot\n",
    "\n",
    "plot.scatter(x=orders_df['order_id'], \n",
    "            y=orders_df['order_amount'])\n",
    "plot.show()"
   ]
  },
  {
   "cell_type": "code",
   "execution_count": 18,
   "metadata": {},
   "outputs": [
    {
     "data": {
      "text/plain": [
       "count      5000.000000\n",
       "mean       3145.128000\n",
       "std       41282.539349\n",
       "min          90.000000\n",
       "25%         163.000000\n",
       "50%         284.000000\n",
       "75%         390.000000\n",
       "max      704000.000000\n",
       "Name: order_amount, dtype: float64"
      ]
     },
     "execution_count": 18,
     "metadata": {},
     "output_type": "execute_result"
    }
   ],
   "source": [
    "orders_df['order_amount'].describe()"
   ]
  },
  {
   "cell_type": "markdown",
   "metadata": {},
   "source": [
    "## Question 2"
   ]
  },
  {
   "cell_type": "markdown",
   "metadata": {},
   "source": [
    "**a)**\n",
    "\n",
    "``` sql\n",
    "SELECT COUNT(OrderID)\n",
    "FROM Orders \n",
    "LEFT JOIN Shippers ON Orders.ShipperID = Shippers.ShipperID \n",
    "WHERE Shippers.ShipperName = 'Speedy Express'\n",
    "```\n",
    "\n",
    "Answer: 54"
   ]
  },
  {
   "cell_type": "markdown",
   "metadata": {},
   "source": [
    "**b)**\n",
    "\n",
    "``` sql\n",
    "SELECT TOP 1 Employees.LastName \n",
    "FROM Orders \n",
    "INNER JOIN Employees ON Orders.EmployeeID=Employees.EmployeeID \n",
    "GROUP BY Employees.LastName \n",
    "ORDER BY Count(Orders.OrderID) DESC;\n",
    "```\n",
    "\n",
    "Answer: Peacock"
   ]
  },
  {
   "cell_type": "markdown",
   "metadata": {},
   "source": [
    "**c)**\n",
    "\n",
    "``` sql\n",
    "SELECT ProductName\n",
    "FROM Products\n",
    "LEFT JOIN OrderDetails\n",
    "ON Products.ProductID = OrderDetails.ProductID \n",
    "LEFT JOIN Orders\n",
    "ON OrderDetails.OrderID = Orders.OrderID\n",
    "LEFT JOIN Customers\n",
    "ON Orders.CustomerID = Customers.CustomerID\n",
    "WHERE Country = 'Germany'\n",
    "GROUP BY OrderDetails.ProductID\n",
    "ORDER BY COUNT(*) DESC\n",
    "LIMIT 1\n",
    "```\n",
    "Answer: Gorgonzola Telino"
   ]
  }
 ],
 "metadata": {
  "kernelspec": {
   "display_name": "Python 3",
   "language": "python",
   "name": "python3"
  },
  "language_info": {
   "codemirror_mode": {
    "name": "ipython",
    "version": 3
   },
   "file_extension": ".py",
   "mimetype": "text/x-python",
   "name": "python",
   "nbconvert_exporter": "python",
   "pygments_lexer": "ipython3",
   "version": "3.8.5"
  }
 },
 "nbformat": 4,
 "nbformat_minor": 4
}
